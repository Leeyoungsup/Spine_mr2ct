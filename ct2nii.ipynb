{
 "cells": [
  {
   "cell_type": "code",
   "execution_count": 4,
   "id": "8ab09f12",
   "metadata": {},
   "outputs": [],
   "source": [
    "import numpy as np\n",
    "import matplotlib.pyplot as plt\n",
    "from PIL import Image\n",
    "import pydicom\n",
    "import imageio\n",
    "import os\n",
    "from glob import glob\n",
    "import nibabel as nib\n",
    "from tqdm import tqdm\n",
    "import json\n",
    "import nibabel as nib\n",
    "import numpy as np\n",
    "import cv2\n",
    "import matplotlib.pyplot as plt\n",
    "from scipy.ndimage import zoom\n",
    "import nibabel as nib\n",
    "from glob import glob\n",
    "from tqdm import tqdm\n",
    "import pandas as pd\n",
    "def create_dir(path):\n",
    "    if not os.path.exists(path):\n",
    "        os.makedirs(path)"
   ]
  },
  {
   "cell_type": "code",
   "execution_count": 13,
   "id": "0cd25925",
   "metadata": {},
   "outputs": [],
   "source": [
    "\n",
    "data_dir='../../data/250513 C CT/'\n",
    "save_dir='../../data/ct_nii/'\n",
    "df=pd.read_csv('../../data/filter_ct_df.csv')\n",
    "\n",
    "def window_and_normalize(img, dcm):\n",
    "    # HU 변환\n",
    "    slope = dcm.RescaleSlope if 'RescaleSlope' in dcm else 1\n",
    "    intercept = dcm.RescaleIntercept if 'RescaleIntercept' in dcm else 0\n",
    "    img = img * slope + intercept\n",
    "\n",
    "    # WL/WW 적용\n",
    "    wl = dcm.WindowCenter[0] if isinstance(dcm.WindowCenter, pydicom.multival.MultiValue) else dcm.WindowCenter\n",
    "    ww = dcm.WindowWidth[0] if isinstance(dcm.WindowWidth, pydicom.multival.MultiValue) else dcm.WindowWidth\n",
    "\n",
    "    if wl is not None and ww is not None:\n",
    "        min_val = wl - ww / 2\n",
    "        max_val = wl + ww / 2\n",
    "        img = np.clip(img, min_val, max_val)\n",
    "        img = (img - min_val) / (max_val - min_val)\n",
    "    else:\n",
    "        # fallback\n",
    "        img = (img - np.min(img)) / (np.max(img) - np.min(img) + 1e-8)\n",
    "\n",
    "    # [-1, 1] 스케일링\n",
    "    img = img * 2 - 1\n",
    "    return img"
   ]
  },
  {
   "cell_type": "code",
   "execution_count": null,
   "id": "a2f08586",
   "metadata": {},
   "outputs": [],
   "source": [
    "folder_list=[]\n",
    "for i in range(len(df)):\n",
    "    folder_list.append(data_dir+df['ID'][i])\n",
    "for j in tqdm(range(len(folder_list))):\n",
    "\n",
    "    dcm_list = sorted(glob(f'{folder_list[j]}/*.dcm'))\n",
    "    nii_name = os.path.basename(folder_list[j])\n",
    "\n",
    "    volume_img = []\n",
    "    for dcm_file in dcm_list:\n",
    "        dcm = pydicom.dcmread(dcm_file)\n",
    "        img = dcm.pixel_array\n",
    "        img_norm = window_and_normalize(img, dcm)\n",
    "        gray = (img_norm * 127.5 + 127.5).astype(np.uint8)\n",
    "        img_proc = cv2.resize(gray, (256, 256), interpolation=cv2.INTER_LINEAR)\n",
    "        volume_img.append(img_proc.astype(np.float32)/127.5-1)\n",
    "        \n",
    "    volume_img = np.stack(volume_img, axis=0)\n",
    "    nii_img = nib.Nifti1Image(volume_img, affine=np.eye(4))\n",
    "    os.makedirs(f'{save_dir}', exist_ok=True)\n",
    "    nib.save(nii_img, f'{save_dir}{nii_name}.nii.gz')"
   ]
  }
 ],
 "metadata": {
  "kernelspec": {
   "display_name": "LeeYS",
   "language": "python",
   "name": "python3"
  },
  "language_info": {
   "codemirror_mode": {
    "name": "ipython",
    "version": 3
   },
   "file_extension": ".py",
   "mimetype": "text/x-python",
   "name": "python",
   "nbconvert_exporter": "python",
   "pygments_lexer": "ipython3",
   "version": "3.10.14"
  }
 },
 "nbformat": 4,
 "nbformat_minor": 5
}

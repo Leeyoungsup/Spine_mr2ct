{
 "cells": [
  {
   "cell_type": "code",
   "execution_count": 2,
   "id": "8ab09f12",
   "metadata": {},
   "outputs": [],
   "source": [
    "import numpy as np\n",
    "import matplotlib.pyplot as plt\n",
    "from PIL import Image\n",
    "import pydicom\n",
    "import imageio\n",
    "import os\n",
    "from glob import glob\n",
    "import nibabel as nib\n",
    "from tqdm import tqdm\n",
    "import json\n",
    "import nibabel as nib\n",
    "import numpy as np\n",
    "import cv2\n",
    "import matplotlib.pyplot as plt\n",
    "from scipy.ndimage import zoom\n",
    "import nibabel as nib\n",
    "from glob import glob\n",
    "from tqdm import tqdm\n",
    "import pandas as pd\n",
    "def create_dir(path):\n",
    "    if not os.path.exists(path):\n",
    "        os.makedirs(path)"
   ]
  },
  {
   "cell_type": "code",
   "execution_count": 3,
   "id": "7ecc00fa",
   "metadata": {},
   "outputs": [],
   "source": [
    "\n",
    "data_dir='../../data/250513 C MR/'\n",
    "save_dir='../../data/mri_nii/'\n",
    "df=pd.read_csv('../../data/filter_mri_df.csv')\n"
   ]
  },
  {
   "cell_type": "code",
   "execution_count": null,
   "id": "e62fcdb4",
   "metadata": {},
   "outputs": [
    {
     "name": "stderr",
     "output_type": "stream",
     "text": [
      "100%|██████████| 306/306 [03:03<00:00,  1.67it/s]\n"
     ]
    }
   ],
   "source": [
    "folder_list=[]\n",
    "for i in range(len(df)):\n",
    "    folder_list.append(data_dir+df['ID'][i])\n",
    "for i in tqdm(range(len(folder_list))):\n",
    "    dicom_paths = glob(folder_list[i] + '/*.dcm')\n",
    "    slices = []\n",
    "\n",
    "    for dicom_file in sorted(dicom_paths):  # slice 순서 보존\n",
    "        dcm = pydicom.dcmread(dicom_file)\n",
    "        img = dcm.pixel_array.astype(np.float32)\n",
    "    \n",
    "        # RescaleSlope / Intercept 적용\n",
    "        slope = float(getattr(dcm, 'RescaleSlope', 1))\n",
    "        intercept = float(getattr(dcm, 'RescaleIntercept', 0))\n",
    "        img = img * slope + intercept\n",
    "        img=cv2.resize(img, (256, 256), interpolation=cv2.INTER_LINEAR)\n",
    "        slices.append(img)\n",
    "\n",
    "    volume = np.stack(slices, axis=0)  # (Z, H, W)\n",
    "    patient_id = os.path.basename(folder_list[i]).replace('.dcm', '')\n",
    "\n",
    "    # ✅ 정규화: -1 ~ 1\n",
    "    vmin = np.percentile(volume, 5)\n",
    "    vmax = np.percentile(volume, 100)\n",
    "\n",
    "    volume = np.clip(volume, vmin, vmax)\n",
    "    volume = (volume - vmin) / (vmax - vmin)  # → 0 ~ 1\n",
    "    volume = volume * 2 - 1                   # → -1 ~ 1\n",
    "    volume = volume.astype(np.float32)\n",
    "    # NIfTI 저장\n",
    "    nifti_img = nib.Nifti1Image(volume, affine=np.eye(4))\n",
    "    save_path = os.path.join(save_dir, f\"{patient_id}.nii.gz\")\n",
    "    create_dir(os.path.dirname(save_path))\n",
    "    nib.save(nifti_img, save_path)"
   ]
  }
 ],
 "metadata": {
  "kernelspec": {
   "display_name": "LeeYS",
   "language": "python",
   "name": "python3"
  },
  "language_info": {
   "codemirror_mode": {
    "name": "ipython",
    "version": 3
   },
   "file_extension": ".py",
   "mimetype": "text/x-python",
   "name": "python",
   "nbconvert_exporter": "python",
   "pygments_lexer": "ipython3",
   "version": "3.10.14"
  }
 },
 "nbformat": 4,
 "nbformat_minor": 5
}

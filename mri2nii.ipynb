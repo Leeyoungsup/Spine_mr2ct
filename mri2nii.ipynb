{
 "cells": [
  {
   "cell_type": "code",
   "execution_count": 4,
   "id": "8ab09f12",
   "metadata": {},
   "outputs": [],
   "source": [
    "import numpy as np\n",
    "import matplotlib.pyplot as plt\n",
    "from PIL import Image\n",
    "import pydicom\n",
    "import imageio\n",
    "import os\n",
    "from glob import glob\n",
    "import nibabel as nib\n",
    "from tqdm import tqdm\n",
    "import json\n",
    "import nibabel as nib\n",
    "import numpy as np\n",
    "import cv2\n",
    "import matplotlib.pyplot as plt\n",
    "from scipy.ndimage import zoom\n",
    "import nibabel as nib\n",
    "from glob import glob\n",
    "from tqdm import tqdm\n",
    "import pandas as pd\n",
    "import scipy.ndimage\n",
    "def create_dir(path):\n",
    "    if not os.path.exists(path):\n",
    "        os.makedirs(path)"
   ]
  },
  {
   "cell_type": "code",
   "execution_count": 2,
   "id": "7ecc00fa",
   "metadata": {},
   "outputs": [],
   "source": [
    "\n",
    "data_dir='../../data/250513 C MR/'\n",
    "save_dir='../../data/mri_nii/'\n",
    "df=pd.read_csv('../../data/filter_mri_df.csv')\n"
   ]
  },
  {
   "cell_type": "code",
   "execution_count": 5,
   "id": "e62fcdb4",
   "metadata": {},
   "outputs": [
    {
     "name": "stderr",
     "output_type": "stream",
     "text": [
      "100%|██████████| 306/306 [04:17<00:00,  1.19it/s]\n"
     ]
    }
   ],
   "source": [
    "folder_list = [os.path.join(data_dir, pid) for pid in df['ID']]\n",
    "\n",
    "for folder in tqdm(folder_list):\n",
    "    dicom_paths = sorted(glob(folder + '/*.dcm'))\n",
    "    slices = []\n",
    "\n",
    "    for dicom_file in dicom_paths:\n",
    "        dcm = pydicom.dcmread(dicom_file)\n",
    "        img = dcm.pixel_array.astype(np.float32)\n",
    "        slope = float(getattr(dcm, 'RescaleSlope', 1))\n",
    "        intercept = float(getattr(dcm, 'RescaleIntercept', 0))\n",
    "        img = img * slope + intercept\n",
    "        slices.append(img)\n",
    "\n",
    "    volume = np.stack(slices, axis=0)  # (Z, H, W)\n",
    "\n",
    "    # ✅ 정규화\n",
    "    vmin = np.percentile(volume, 5)\n",
    "    vmax = np.percentile(volume, 100)\n",
    "    volume = np.clip(volume, vmin, vmax)\n",
    "    volume = (volume - vmin) / (vmax - vmin)\n",
    "    volume = volume * 2 - 1\n",
    "\n",
    "    # ✅ spacing 추출\n",
    "    z_spacing = float(getattr(dcm, 'SliceThickness', 1))  # Z 방향은 유지\n",
    "    y_spacing, x_spacing = map(float, getattr(dcm, 'PixelSpacing', [1, 1]))\n",
    "\n",
    "    # ✅ 리샘플링 비율 계산 (Z는 그대로 → 1.0)\n",
    "    target_yx_spacing = (0.5, 0.5)\n",
    "    zoom_factors = [1.0, y_spacing / target_yx_spacing[0], x_spacing / target_yx_spacing[1]]\n",
    "\n",
    "    # ✅ (Z, H, W) → (Z, new_H, new_W)\n",
    "    volume = scipy.ndimage.zoom(volume, zoom=zoom_factors, order=1)\n",
    "    volume = volume.astype(np.float32)\n",
    "\n",
    "    # 저장\n",
    "    patient_id = os.path.basename(folder).replace('.dcm', '')\n",
    "    save_path = os.path.join(save_dir, f\"{patient_id}.nii.gz\")\n",
    "    os.makedirs(os.path.dirname(save_path), exist_ok=True)\n",
    "    nifti_img = nib.Nifti1Image(volume, affine=np.eye(4))\n",
    "    nib.save(nifti_img, save_path)"
   ]
  }
 ],
 "metadata": {
  "kernelspec": {
   "display_name": "LeeYS",
   "language": "python",
   "name": "python3"
  },
  "language_info": {
   "codemirror_mode": {
    "name": "ipython",
    "version": 3
   },
   "file_extension": ".py",
   "mimetype": "text/x-python",
   "name": "python",
   "nbconvert_exporter": "python",
   "pygments_lexer": "ipython3",
   "version": "3.10.14"
  }
 },
 "nbformat": 4,
 "nbformat_minor": 5
}

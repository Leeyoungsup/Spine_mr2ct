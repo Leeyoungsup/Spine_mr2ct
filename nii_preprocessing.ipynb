{
 "cells": [
  {
   "cell_type": "code",
   "execution_count": 2,
   "id": "b76bba64",
   "metadata": {},
   "outputs": [],
   "source": [
    "import numpy as np\n",
    "import matplotlib.pyplot as plt\n",
    "from PIL import Image\n",
    "import pydicom\n",
    "import imageio\n",
    "import os\n",
    "from glob import glob\n",
    "import nibabel as nib\n",
    "from tqdm import tqdm\n",
    "import json\n",
    "import nibabel as nib\n",
    "import numpy as np\n",
    "import cv2\n",
    "import matplotlib.pyplot as plt\n",
    "from scipy.ndimage import zoom\n",
    "import nibabel as nib\n",
    "from glob import glob\n",
    "from tqdm import tqdm\n",
    "import pandas as pd\n",
    "import scipy.ndimage\n",
    "def create_dir(path):\n",
    "    if not os.path.exists(path):\n",
    "        os.makedirs(path)"
   ]
  },
  {
   "cell_type": "code",
   "execution_count": 16,
   "id": "4e6dbda8",
   "metadata": {},
   "outputs": [
    {
     "name": "stderr",
     "output_type": "stream",
     "text": [
      "100%|██████████| 306/306 [01:50<00:00,  2.76it/s]\n"
     ]
    }
   ],
   "source": [
    "def load_and_preprocess_nifti(path, target_shape=(32, 256, 256)):\n",
    "    # Load NIfTI\n",
    "    nifti = nib.load(path)\n",
    "    volume = nifti.get_fdata()  # shape: (H, W, D) 또는 (X, Y, Z)\n",
    "\n",
    "\n",
    "    # Reorder to (D, H, W) = (Z, X, Y)\n",
    "\n",
    "    # Compute zoom factors\n",
    "    zoom_factors = [t / s for t, s in zip(target_shape, volume.shape)]\n",
    "\n",
    "    # Resize using scipy.ndimage.zoom\n",
    "    volume = scipy.ndimage.zoom(volume, zoom=zoom_factors, order=0)\n",
    "\n",
    "    return volume.astype(np.float32)  # shape: (32, 256, 256)\n",
    "\n",
    "data_path='../../data/mri_nii/'\n",
    "save_dir='../../data/prepross_img/mri/'\n",
    "data_list=glob(data_path+'*.nii.gz')\n",
    "for i in tqdm(range(len(data_list))):\n",
    "\n",
    "    save_list=[f.replace('mri_nii/','prepross_img/mri/') for f in data_list]\n",
    "    vol = load_and_preprocess_nifti(data_list[i])\n",
    "    nifti_img = nib.Nifti1Image(vol, affine=np.eye(4))\n",
    "\n",
    "    nib.save(nifti_img, save_list[i])"
   ]
  },
  {
   "cell_type": "code",
   "execution_count": 14,
   "id": "79e5bf49",
   "metadata": {},
   "outputs": [
    {
     "data": {
      "text/plain": [
       "(23, 288, 384)"
      ]
     },
     "execution_count": 14,
     "metadata": {},
     "output_type": "execute_result"
    }
   ],
   "source": [
    "nifti = nib.load(data_list[0])\n",
    "volume = nifti.get_fdata()\n",
    "volume.shape"
   ]
  }
 ],
 "metadata": {
  "kernelspec": {
   "display_name": "LeeYS",
   "language": "python",
   "name": "python3"
  },
  "language_info": {
   "codemirror_mode": {
    "name": "ipython",
    "version": 3
   },
   "file_extension": ".py",
   "mimetype": "text/x-python",
   "name": "python",
   "nbconvert_exporter": "python",
   "pygments_lexer": "ipython3",
   "version": "3.10.14"
  }
 },
 "nbformat": 4,
 "nbformat_minor": 5
}

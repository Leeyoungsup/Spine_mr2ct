{
 "cells": [
  {
   "cell_type": "code",
   "execution_count": 2,
   "id": "b76bba64",
   "metadata": {},
   "outputs": [],
   "source": [
    "import numpy as np\n",
    "import matplotlib.pyplot as plt\n",
    "from PIL import Image\n",
    "import pydicom\n",
    "import imageio\n",
    "import os\n",
    "from glob import glob\n",
    "import nibabel as nib\n",
    "from tqdm import tqdm\n",
    "import json\n",
    "import nibabel as nib\n",
    "import numpy as np\n",
    "import cv2\n",
    "import matplotlib.pyplot as plt\n",
    "from scipy.ndimage import zoom\n",
    "import nibabel as nib\n",
    "from glob import glob\n",
    "from tqdm import tqdm\n",
    "import pandas as pd\n",
    "import scipy.ndimage\n",
    "def create_dir(path):\n",
    "    if not os.path.exists(path):\n",
    "        os.makedirs(path)"
   ]
  },
  {
   "cell_type": "code",
   "execution_count": 6,
   "id": "4e6dbda8",
   "metadata": {},
   "outputs": [
    {
     "name": "stderr",
     "output_type": "stream",
     "text": [
      "  0%|          | 0/809 [00:00<?, ?it/s]"
     ]
    },
    {
     "name": "stderr",
     "output_type": "stream",
     "text": [
      "100%|██████████| 809/809 [10:50<00:00,  1.24it/s]\n"
     ]
    }
   ],
   "source": [
    "def center_crop_or_pad_2d(volume, target_hw=(384, 384), pad_value=-1):\n",
    "    \"\"\"\n",
    "    volume: (D, H, W)\n",
    "    target_hw: (target_height, target_width)\n",
    "    pad_value: value to fill if padding is needed\n",
    "    \"\"\"\n",
    "    d, h, w = volume.shape\n",
    "    target_h, target_w = target_hw\n",
    "\n",
    "    padded = np.full((d, target_h, target_w), fill_value=pad_value, dtype=volume.dtype)\n",
    "\n",
    "    crop_h = min(h, target_h)\n",
    "    crop_w = min(w, target_w)\n",
    "\n",
    "    start_h = (h - crop_h) // 2\n",
    "    start_w = (w - crop_w) // 2\n",
    "\n",
    "    target_start_h = (target_h - crop_h) // 2\n",
    "    target_start_w = (target_w - crop_w) // 2\n",
    "\n",
    "    padded[:, target_start_h:target_start_h + crop_h,\n",
    "              target_start_w:target_start_w + crop_w] = volume[:, start_h:start_h + crop_h,\n",
    "                                                               start_w:start_w + crop_w]\n",
    "    return padded\n",
    "\n",
    "def resize_z(volume, target_depth=32):\n",
    "    \"\"\"volume: (D, H, W)\"\"\"\n",
    "    current_depth = volume.shape[0]\n",
    "    zoom_factor = target_depth / current_depth\n",
    "    volume_resized = scipy.ndimage.zoom(volume, zoom=(zoom_factor, 1, 1), order=0)\n",
    "    return volume_resized\n",
    "\n",
    "def load_and_preprocess_nifti(path, target_shape=(32, 384, 384)):\n",
    "    # Load NIfTI\n",
    "    nifti = nib.load(path)\n",
    "    volume = nifti.get_fdata()\n",
    "\n",
    "    # Z 방향 resize\n",
    "    volume = resize_z(volume, target_depth=target_shape[0])\n",
    "\n",
    "    # X, Y 방향 crop 또는 padding\n",
    "    volume = center_crop_or_pad_2d(volume, target_hw=(target_shape[1], target_shape[2]), pad_value=-1)\n",
    "\n",
    "    return volume.astype(np.float32)\n",
    "\n",
    "# 경로 설정\n",
    "data_path = '../../data/ct_nii/'\n",
    "save_dir = '../../data/prepross_img/ct/'\n",
    "data_list = glob(data_path + '*.nii.gz')\n",
    "save_list = [f.replace('ct_nii/', 'prepross_img/ct/') for f in data_list]\n",
    "\n",
    "os.makedirs(save_dir, exist_ok=True)\n",
    "\n",
    "for i in tqdm(range(len(data_list))):\n",
    "    vol = load_and_preprocess_nifti(data_list[i])  # (32, 384, 384)\n",
    "    nifti_img = nib.Nifti1Image(vol, affine=np.eye(4))\n",
    "    nib.save(nifti_img, save_list[i])"
   ]
  },
  {
   "cell_type": "code",
   "execution_count": 14,
   "id": "79e5bf49",
   "metadata": {},
   "outputs": [
    {
     "data": {
      "text/plain": [
       "(23, 288, 384)"
      ]
     },
     "execution_count": 14,
     "metadata": {},
     "output_type": "execute_result"
    }
   ],
   "source": [
    "nifti = nib.load(data_list[0])\n",
    "volume = nifti.get_fdata()\n",
    "volume.shape"
   ]
  }
 ],
 "metadata": {
  "kernelspec": {
   "display_name": "LeeYS",
   "language": "python",
   "name": "python3"
  },
  "language_info": {
   "codemirror_mode": {
    "name": "ipython",
    "version": 3
   },
   "file_extension": ".py",
   "mimetype": "text/x-python",
   "name": "python",
   "nbconvert_exporter": "python",
   "pygments_lexer": "ipython3",
   "version": "3.10.14"
  }
 },
 "nbformat": 4,
 "nbformat_minor": 5
}
